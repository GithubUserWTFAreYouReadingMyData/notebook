{
 "cells": [
  {
   "cell_type": "markdown",
   "id": "701e5e27-ac4f-4ba3-8f99-5228f737215e",
   "metadata": {},
   "source": [
    "# Data Science Tools and Ecosystem\n"
   ]
  },
  {
   "cell_type": "markdown",
   "id": "2a90978b-c37b-48c2-a170-c76caca93b60",
   "metadata": {},
   "source": [
    "In this notebook, Data Science Tools and Ecosystem are summarized."
   ]
  },
  {
   "cell_type": "markdown",
   "id": "6d4a2bcd-0369-4e14-bb15-da6abea270f6",
   "metadata": {},
   "source": [
    "**Objectives:**\n",
    "\n",
    "- List popular languages for Data Science\n",
    "- Introduce commonly used libraries in data science\n",
    "- Demonstrate the creation of simple data visualizations\n",
    "- Explain the basics of data manipulation using pandas\n"
   ]
  },
  {
   "cell_type": "markdown",
   "id": "8180408a-5819-49bb-94d4-6a80fedf5351",
   "metadata": {},
   "source": [
    "1. Python\n",
    "2. R\n",
    "3. SQL\n"
   ]
  },
  {
   "cell_type": "markdown",
   "id": "984d4dbf-85bd-4dfa-8af3-cc05150ee9d8",
   "metadata": {},
   "source": [
    "Some of the commonly used libraries used by Data Scientists include:\n",
    "1. Pandas\n",
    "2. NumPy\n",
    "3. Matplotlib\n"
   ]
  },
  {
   "cell_type": "markdown",
   "id": "ee20b55c-d1c3-4926-b2d3-8d1e6cf8ebc5",
   "metadata": {},
   "source": [
    "| Data Science Tools |\n",
    "|-------------------|\n",
    "| Jupyter Notebook  |\n",
    "| Anaconda          |\n",
    "| Git               |\n"
   ]
  },
  {
   "cell_type": "markdown",
   "id": "6a1f5035-c859-4ff6-b389-64732c683000",
   "metadata": {},
   "source": [
    "### Below are a few examples of evaluating arithmetic expressions in Python\n"
   ]
  },
  {
   "cell_type": "code",
   "execution_count": 7,
   "id": "fa898895-eb18-40ea-96b4-8430278cc530",
   "metadata": {},
   "outputs": [
    {
     "data": {
      "text/plain": [
       "17"
      ]
     },
     "execution_count": 7,
     "metadata": {},
     "output_type": "execute_result"
    }
   ],
   "source": [
    "# This a simple arithmetic expression to mutiply then add integers\n",
    "(3*4)+5"
   ]
  },
  {
   "cell_type": "code",
   "execution_count": 9,
   "id": "253eca66-18e3-4f31-a0a8-bfdb567b9f46",
   "metadata": {},
   "outputs": [],
   "source": [
    "# This will convert 200 minutes to hours by diving by 60\n",
    "hours= 200/60"
   ]
  },
  {
   "cell_type": "code",
   "execution_count": 11,
   "id": "dd7eb321-dee0-4802-bf6f-daedffc8049f",
   "metadata": {},
   "outputs": [
    {
     "data": {
      "text/plain": [
       "3.3333333333333335"
      ]
     },
     "execution_count": 11,
     "metadata": {},
     "output_type": "execute_result"
    }
   ],
   "source": [
    "hours"
   ]
  },
  {
   "cell_type": "markdown",
   "id": "1fc8a727-5e4d-4f60-834b-415844e9ae33",
   "metadata": {},
   "source": [
    "## Author\n",
    "\n",
    "Vincenzo\n"
   ]
  },
  {
   "cell_type": "code",
   "execution_count": null,
   "id": "b4ce0dc9-578c-4f84-953c-b28ebc359eac",
   "metadata": {},
   "outputs": [],
   "source": []
  }
 ],
 "metadata": {
  "kernelspec": {
   "display_name": "Python 3 (ipykernel)",
   "language": "python",
   "name": "python3"
  },
  "language_info": {
   "codemirror_mode": {
    "name": "ipython",
    "version": 3
   },
   "file_extension": ".py",
   "mimetype": "text/x-python",
   "name": "python",
   "nbconvert_exporter": "python",
   "pygments_lexer": "ipython3",
   "version": "3.12.4"
  }
 },
 "nbformat": 4,
 "nbformat_minor": 5
}
